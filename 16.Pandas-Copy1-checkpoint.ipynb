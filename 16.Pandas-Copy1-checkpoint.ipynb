{
 "cells": [
  {
   "cell_type": "code",
   "execution_count": null,
   "metadata": {
    "collapsed": true
   },
   "outputs": [],
   "source": [
    "import pandas as pd\n",
    "import numpy as np"
   ]
  },
  {
   "cell_type": "code",
   "execution_count": null,
   "metadata": {
    "collapsed": true
   },
   "outputs": [],
   "source": [
    "first_series = pd.Series()"
   ]
  },
  {
   "cell_type": "code",
   "execution_count": null,
   "metadata": {
    "collapsed": true
   },
   "outputs": [],
   "source": [
    "first_series = pd.Series({'1':'Ahmedabad', '2':'Bangalore', '3':'Chennai','4':'Delhi','5':'Kolkatta','6':'Mumbai'})\n",
    "print(first_series)"
   ]
  },
  {
   "cell_type": "code",
   "execution_count": null,
   "metadata": {
    "collapsed": true
   },
   "outputs": [],
   "source": [
    "second_series = pd.Series(np.arange(5,13,2))\n",
    "print(second_series)"
   ]
  },
  {
   "cell_type": "code",
   "execution_count": null,
   "metadata": {
    "collapsed": true
   },
   "outputs": [],
   "source": [
    "third_series = pd.Series(['Mango','Apple','Banana','Orange','Grape'])\n",
    "print(third_series)"
   ]
  },
  {
   "cell_type": "code",
   "execution_count": null,
   "metadata": {
    "collapsed": true
   },
   "outputs": [],
   "source": [
    "print(third_series.index)"
   ]
  },
  {
   "cell_type": "code",
   "execution_count": null,
   "metadata": {
    "collapsed": true
   },
   "outputs": [],
   "source": [
    "first_df = pd.DataFrame({'A':[1,2,3,4], 'B':[8,7,6,5], 'C':[9,12,11,10]})\n",
    "print(first_df)\n",
    "pd."
   ]
  },
  {
   "cell_type": "code",
   "execution_count": null,
   "metadata": {
    "collapsed": true
   },
   "outputs": [],
   "source": [
    "market_data = pd.read_csv('C:/Users/VKAMIRE/Documents/HD/Python/Python/Datasets/global_sales/market_fact.csv')"
   ]
  },
  {
   "cell_type": "code",
   "execution_count": null,
   "metadata": {},
   "outputs": [],
   "source": [
    "type(market_data)"
   ]
  },
  {
   "cell_type": "code",
   "execution_count": null,
   "metadata": {},
   "outputs": [],
   "source": [
    "market_data.head()"
   ]
  },
  {
   "cell_type": "code",
   "execution_count": null,
   "metadata": {},
   "outputs": [],
   "source": [
    "market_data.tail(10)"
   ]
  },
  {
   "cell_type": "code",
   "execution_count": null,
   "metadata": {},
   "outputs": [],
   "source": [
    "market_data.describe()"
   ]
  },
  {
   "cell_type": "code",
   "execution_count": null,
   "metadata": {},
   "outputs": [],
   "source": [
    "market_data.columns"
   ]
  },
  {
   "cell_type": "code",
   "execution_count": null,
   "metadata": {},
   "outputs": [],
   "source": [
    "market_data[40:55]"
   ]
  },
  {
   "cell_type": "code",
   "execution_count": null,
   "metadata": {},
   "outputs": [],
   "source": [
    "market_data_facts = market_data[['Discount','Order_Quantity','Profit','Shipping_Cost','Product_Base_Margin']]\n",
    "market_data_facts.head()\n",
    "market_data_facts.rename(columns={'Discount':'DSC'})"
   ]
  },
  {
   "cell_type": "code",
   "execution_count": null,
   "metadata": {},
   "outputs": [],
   "source": [
    "loc_subset = market_data.loc[20:31,'Sales':'Profit']\n",
    "loc_subset"
   ]
  },
  {
   "cell_type": "code",
   "execution_count": null,
   "metadata": {},
   "outputs": [],
   "source": [
    "loc_subset.sort_index(axis=0, ascending=False,inplace = True)\n",
    "print(loc_subset)"
   ]
  },
  {
   "cell_type": "code",
   "execution_count": null,
   "metadata": {},
   "outputs": [],
   "source": [
    "help(loc_subset.sort_index)"
   ]
  },
  {
   "cell_type": "code",
   "execution_count": null,
   "metadata": {},
   "outputs": [],
   "source": [
    "loc_subset.sort_values(by='Sales',ascending =False,inplace=True)\n",
    "print(loc_subset)"
   ]
  },
  {
   "cell_type": "code",
   "execution_count": null,
   "metadata": {},
   "outputs": [],
   "source": [
    "loc_subset.sort_values(by=['Profit','Sales'],ascending =False,inplace=True)\n",
    "print(loc_subset)"
   ]
  },
  {
   "cell_type": "code",
   "execution_count": null,
   "metadata": {},
   "outputs": [],
   "source": [
    "prod_data = pd.read_csv('C:/Users/VKAMIRE/Documents/HD/Python/Python/Datasets/global_sales/prod_dimen.csv')\n",
    "prod_data.dtypes"
   ]
  },
  {
   "cell_type": "code",
   "execution_count": null,
   "metadata": {},
   "outputs": [],
   "source": [
    "prod_data['Product_Category'] = prod_data['Product_Category'].astype('category')\n",
    "print(prod_data.dtypes)"
   ]
  },
  {
   "cell_type": "code",
   "execution_count": null,
   "metadata": {},
   "outputs": [],
   "source": [
    "combined_data = pd.merge(market_data, prod_data, on='Prod_id', how='outer')\n",
    "combined_data"
   ]
  },
  {
   "cell_type": "code",
   "execution_count": null,
   "metadata": {},
   "outputs": [],
   "source": [
    "cust_data = pd.read_csv('C:/Users/VKAMIRE/Documents/HD/Python/Python/Datasets/global_sales/cust_dimen.csv')\n",
    "ship_data = pd.read_csv('C:/Users/VKAMIRE/Documents/HD/Python/Python/Datasets/global_sales/shipping_dimen.csv')\n",
    "\n",
    "combined_data2 = pd.merge(combined_data, cust_data, on = 'Cust_id',how='outer')\n",
    "combined_master = pd.merge(combined_data2, ship_data, on = 'Ship_id', how='outer')\n",
    "combined_master"
   ]
  },
  {
   "cell_type": "code",
   "execution_count": null,
   "metadata": {},
   "outputs": [],
   "source": [
    "# Horizontal Subset\n",
    "#get number of observations with a profit greater than 1000\n",
    "profit_grt_1000 = combined_master[combined_master.Profit > 1000]\n",
    "profit_grt_1000_counts = len(profit_grt_1000)\n",
    "print(profit_grt_1000_counts)"
   ]
  },
  {
   "cell_type": "code",
   "execution_count": null,
   "metadata": {},
   "outputs": [],
   "source": [
    "high_value = combined_master.query('Sales >1000 and Order_Quantity <30')\n",
    "high_value"
   ]
  },
  {
   "cell_type": "code",
   "execution_count": null,
   "metadata": {},
   "outputs": [],
   "source": [
    "help(combined_master.where)"
   ]
  },
  {
   "cell_type": "code",
   "execution_count": null,
   "metadata": {},
   "outputs": [],
   "source": [
    "#Using where\n",
    "\n",
    "high_value_where = combined_master.where(combined_master.Sales >1000,-combined_master)\n",
    "high_value_where"
   ]
  },
  {
   "cell_type": "code",
   "execution_count": null,
   "metadata": {
    "collapsed": true
   },
   "outputs": [],
   "source": [
    "print(len(high_value_where))\n",
    "print(len(high_value_where.dropna(axis=0)))"
   ]
  },
  {
   "cell_type": "code",
   "execution_count": null,
   "metadata": {},
   "outputs": [],
   "source": [
    "print(combined_master.Product_Category.dtype)\n",
    "combined_master['Product_Category'] = combined_master['Product_Category'].astype('category')\n",
    "\n",
    "print(combined_master.Product_Category.dtype)"
   ]
  },
  {
   "cell_type": "code",
   "execution_count": null,
   "metadata": {
    "collapsed": true
   },
   "outputs": [],
   "source": [
    "combined_master"
   ]
  },
  {
   "cell_type": "code",
   "execution_count": null,
   "metadata": {},
   "outputs": [],
   "source": [
    "combined_master.groupby(['Product_Category'])['Sales'].mean()"
   ]
  },
  {
   "cell_type": "code",
   "execution_count": null,
   "metadata": {},
   "outputs": [],
   "source": [
    "combined_master.groupby(['Product_Category','Product_Sub_Category'])[['Sales','Profit']].mean()"
   ]
  },
  {
   "cell_type": "code",
   "execution_count": null,
   "metadata": {},
   "outputs": [],
   "source": [
    "combined_master.groupby(['Product_Category','Product_Sub_Category'])[['Sales','Profit']].count()"
   ]
  },
  {
   "cell_type": "code",
   "execution_count": null,
   "metadata": {},
   "outputs": [],
   "source": [
    "combined_master.groupby(['Product_Category','Product_Sub_Category'])[['Sales','Profit']].sum()"
   ]
  },
  {
   "cell_type": "code",
   "execution_count": null,
   "metadata": {
    "collapsed": true
   },
   "outputs": [],
   "source": [
    "groupings = combined_master.groupby(['Product_Category','Region'])"
   ]
  },
  {
   "cell_type": "code",
   "execution_count": null,
   "metadata": {},
   "outputs": [],
   "source": [
    "groupings.agg([np.sum, np.mean, np.std])"
   ]
  },
  {
   "cell_type": "code",
   "execution_count": null,
   "metadata": {},
   "outputs": [],
   "source": [
    "groupings.agg([np.sum, np.mean, np.std])['Order_Quantity']"
   ]
  },
  {
   "cell_type": "code",
   "execution_count": null,
   "metadata": {
    "collapsed": true
   },
   "outputs": [],
   "source": [
    "pivot_ex = combined_master.drop_duplicates(subset = 'Ship_Date', inplace = False)"
   ]
  },
  {
   "cell_type": "code",
   "execution_count": null,
   "metadata": {
    "collapsed": true
   },
   "outputs": [],
   "source": [
    "def get_id(any_id):\n",
    "    out = any_id.split('_')[1]\n",
    "    return out"
   ]
  },
  {
   "cell_type": "code",
   "execution_count": null,
   "metadata": {
    "collapsed": true
   },
   "outputs": [],
   "source": [
    "get_id_lambda = lambda x : x.split('_')[1]"
   ]
  },
  {
   "cell_type": "code",
   "execution_count": null,
   "metadata": {},
   "outputs": [],
   "source": [
    "combined_master['Cust_id_new'] = combined_master['Cust_id'].apply(get_id)\n",
    "combined_master['Ord_id_new'] = combined_master['Ord_id'].apply(get_id_lambda)\n",
    "\n",
    "combined_master.head()"
   ]
  },
  {
   "cell_type": "code",
   "execution_count": null,
   "metadata": {
    "collapsed": true
   },
   "outputs": [],
   "source": [
    "combined_master.to_csv('combined.csv')"
   ]
  },
  {
   "cell_type": "code",
   "execution_count": null,
   "metadata": {
    "collapsed": true
   },
   "outputs": [],
   "source": [
    "year=[1,1000,1500,1650,1750,1804,1850,1900,1927,1950,1955,1960,1965,1970,1975,1980,1985,1990,1995,1999,2006,2009,2011,2025,2043,2083\n",
    "]"
   ]
  },
  {
   "cell_type": "code",
   "execution_count": null,
   "metadata": {
    "collapsed": true
   },
   "outputs": [],
   "source": [
    "pop=[0.2,0.275,0.45,0.5,0.7,1,1.2,1.6,2,2.55,2.8,3,3.3,3.7,4,4.5,4.85,5.3,5.7,6,6.5,6.8,7,8,9,10]"
   ]
  },
  {
   "cell_type": "code",
   "execution_count": null,
   "metadata": {
    "collapsed": true
   },
   "outputs": [],
   "source": [
    "import matplotlib.pyplot as plt\n",
    "#help(plt.plot)"
   ]
  },
  {
   "cell_type": "code",
   "execution_count": null,
   "metadata": {},
   "outputs": [],
   "source": [
    "plt.plot(year,pop)\n",
    "plt.show()"
   ]
  },
  {
   "cell_type": "code",
   "execution_count": null,
   "metadata": {},
   "outputs": [],
   "source": [
    "plt.scatter(year,pop)\n",
    "plt.show()"
   ]
  },
  {
   "cell_type": "code",
   "execution_count": null,
   "metadata": {
    "collapsed": true
   },
   "outputs": [],
   "source": [
    "life_exp=[43.828000000000003,\n",
    " 76.423000000000002,\n",
    " 72.301000000000002,\n",
    " 42.731000000000002,\n",
    " 75.319999999999993,\n",
    " 81.234999999999999,\n",
    " 79.828999999999994,\n",
    " 75.635000000000005,\n",
    " 64.061999999999998,\n",
    " 79.441000000000003,\n",
    " 56.728000000000002,\n",
    " 65.554000000000002,\n",
    " 74.852000000000004,\n",
    " 50.728000000000002,\n",
    " 72.390000000000001,\n",
    " 73.004999999999995,\n",
    " 52.295000000000002,\n",
    " 49.579999999999998,\n",
    " 59.722999999999999,\n",
    " 50.43,\n",
    " 80.653000000000006,\n",
    " 44.741000000000007,\n",
    " 50.651000000000003,\n",
    " 78.552999999999997,\n",
    " 72.960999999999999,\n",
    " 72.888999999999996,\n",
    " 65.152000000000001,\n",
    " 46.462000000000003,\n",
    " 55.322000000000003,\n",
    " 78.781999999999996,\n",
    " 48.328000000000003,\n",
    " 75.748000000000005,\n",
    " 78.272999999999996,\n",
    " 76.486000000000004,\n",
    " 78.331999999999994,\n",
    " 54.790999999999997,\n",
    " 72.234999999999999,\n",
    " 74.994,\n",
    " 71.338000000000022,\n",
    " 71.878,\n",
    " 51.578999999999994,\n",
    " 58.039999999999999,\n",
    " 52.947000000000003,\n",
    " 79.313000000000002,\n",
    " 80.656999999999996,\n",
    " 56.734999999999999,\n",
    " 59.448,\n",
    " 79.406000000000006,\n",
    " 60.021999999999998,\n",
    " 79.483000000000004,\n",
    " 70.259,\n",
    " 56.006999999999998,\n",
    " 46.388000000000012,\n",
    " 60.915999999999997,\n",
    " 70.198000000000008,\n",
    " 82.207999999999998,\n",
    " 73.338000000000022,\n",
    " 81.757000000000005,\n",
    " 64.698000000000008,\n",
    " 70.650000000000006,\n",
    " 70.963999999999999,\n",
    " 59.545000000000002,\n",
    " 78.885000000000005,\n",
    " 80.745000000000005,\n",
    " 80.546000000000006,\n",
    " 72.566999999999993,\n",
    " 82.602999999999994,\n",
    " 72.534999999999997,\n",
    " 54.109999999999999,\n",
    " 67.296999999999997,\n",
    " 78.623000000000005,\n",
    " 77.588000000000022,\n",
    " 71.992999999999995,\n",
    " 42.591999999999999,\n",
    " 45.677999999999997,\n",
    " 73.951999999999998,\n",
    " 59.443000000000012,\n",
    " 48.302999999999997,\n",
    " 74.241,\n",
    " 54.466999999999999,\n",
    " 64.164000000000001,\n",
    " 72.801000000000002,\n",
    " 76.194999999999993,\n",
    " 66.802999999999997,\n",
    " 74.543000000000006,\n",
    " 71.164000000000001,\n",
    " 42.082000000000001,\n",
    " 62.069000000000003,\n",
    " 52.906000000000013,\n",
    " 63.784999999999997,\n",
    " 79.762,\n",
    " 80.203999999999994,\n",
    " 72.899000000000001,\n",
    " 56.866999999999997,\n",
    " 46.859000000000002,\n",
    " 80.195999999999998,\n",
    " 75.640000000000001,\n",
    " 65.483000000000004,\n",
    " 75.536999999999978,\n",
    " 71.751999999999995,\n",
    " 71.421000000000006,\n",
    " 71.688000000000002,\n",
    " 75.563000000000002,\n",
    " 78.097999999999999,\n",
    " 78.746000000000024,\n",
    " 76.441999999999993,\n",
    " 72.475999999999999,\n",
    " 46.241999999999997,\n",
    " 65.528000000000006,\n",
    " 72.777000000000001,\n",
    " 63.061999999999998,\n",
    " 74.001999999999995,\n",
    " 42.568000000000012,\n",
    " 79.971999999999994,\n",
    " 74.662999999999997,\n",
    " 77.926000000000002,\n",
    " 48.158999999999999,\n",
    " 49.338999999999999,\n",
    " 80.941000000000003,\n",
    " 72.396000000000001,\n",
    " 58.555999999999997,\n",
    " 39.613,\n",
    " 80.884,\n",
    " 81.701000000000022,\n",
    " 74.143000000000001,\n",
    " 78.400000000000006,\n",
    " 52.517000000000003,\n",
    " 70.616,\n",
    " 58.420000000000002,\n",
    " 69.819000000000003,\n",
    " 73.923000000000002,\n",
    " 71.777000000000001,\n",
    " 51.542000000000002,\n",
    " 79.424999999999997,\n",
    " 78.242000000000004,\n",
    " 76.384,\n",
    " 73.747,\n",
    " 74.248999999999995,\n",
    " 73.421999999999997,\n",
    " 62.698,\n",
    " 42.383999999999993,\n",
    " 43.487000000000002]"
   ]
  },
  {
   "cell_type": "code",
   "execution_count": null,
   "metadata": {
    "collapsed": true
   },
   "outputs": [],
   "source": [
    "gdp_cap=[974.58033839999996,\n",
    " 5937.0295259999984,\n",
    " 6223.3674650000003,\n",
    " 4797.2312670000001,\n",
    " 12779.379639999999,\n",
    " 34435.367439999995,\n",
    " 36126.492700000003,\n",
    " 29796.048340000001,\n",
    " 1391.253792,\n",
    " 33692.605080000001,\n",
    " 1441.2848730000001,\n",
    " 3822.137084,\n",
    " 7446.2988029999997,\n",
    " 12569.851769999999,\n",
    " 9065.8008250000003,\n",
    " 10680.792820000001,\n",
    " 1217.0329939999999,\n",
    " 430.07069159999998,\n",
    " 1713.7786860000001,\n",
    " 2042.0952400000001,\n",
    " 36319.235009999997,\n",
    " 706.01653699999997,\n",
    " 1704.0637240000001,\n",
    " 13171.638849999999,\n",
    " 4959.1148540000004,\n",
    " 7006.5804189999999,\n",
    " 986.14787920000003,\n",
    " 277.55185870000003,\n",
    " 3632.5577979999998,\n",
    " 9645.06142,\n",
    " 1544.7501119999999,\n",
    " 14619.222719999998,\n",
    " 8948.1029230000004,\n",
    " 22833.308509999999,\n",
    " 35278.418740000001,\n",
    " 2082.4815670000007,\n",
    " 6025.3747520000015,\n",
    " 6873.2623260000009,\n",
    " 5581.1809979999998,\n",
    " 5728.3535140000004,\n",
    " 12154.089749999999,\n",
    " 641.36952360000021,\n",
    " 690.80557590000001,\n",
    " 33207.0844,\n",
    " 30470.0167,\n",
    " 13206.48452,\n",
    " 752.74972649999995,\n",
    " 32170.37442,\n",
    " 1327.6089099999999,\n",
    " 27538.41188,\n",
    " 5186.0500030000003,\n",
    " 942.6542111,\n",
    " 579.23174299999982,\n",
    " 1201.637154,\n",
    " 3548.3308460000007,\n",
    " 39724.978669999997,\n",
    " 18008.944439999999,\n",
    " 36180.789190000003,\n",
    " 2452.210407,\n",
    " 3540.6515639999998,\n",
    " 11605.71449,\n",
    " 4471.0619059999999,\n",
    " 40675.996350000001,\n",
    " 25523.277099999999,\n",
    " 28569.719700000001,\n",
    " 7320.8802620000015,\n",
    " 31656.068060000001,\n",
    " 4519.4611709999999,\n",
    " 1463.249282,\n",
    " 1593.06548,\n",
    " 23348.139730000006,\n",
    " 47306.989780000004,\n",
    " 10461.05868,\n",
    " 1569.3314419999999,\n",
    " 414.5073415,\n",
    " 12057.49928,\n",
    " 1044.7701259999999,\n",
    " 759.34991009999999,\n",
    " 12451.6558,\n",
    " 1042.581557,\n",
    " 1803.151496,\n",
    " 10956.991120000001,\n",
    " 11977.57496,\n",
    " 3095.7722710000007,\n",
    " 9253.896111,\n",
    " 3820.1752299999998,\n",
    " 823.68562050000003,\n",
    " 944.0,\n",
    " 4811.0604290000001,\n",
    " 1091.359778,\n",
    " 36797.933319999996,\n",
    " 25185.009109999999,\n",
    " 2749.3209649999999,\n",
    " 619.67689239999982,\n",
    " 2013.9773049999999,\n",
    " 49357.190170000002,\n",
    " 22316.192869999999,\n",
    " 2605.94758,\n",
    " 9809.1856360000002,\n",
    " 4172.8384640000004,\n",
    " 7408.9055609999996,\n",
    " 3190.4810160000002,\n",
    " 15389.924680000002,\n",
    " 20509.64777,\n",
    " 19328.709009999999,\n",
    " 7670.122558,\n",
    " 10808.47561,\n",
    " 863.08846390000019,\n",
    " 1598.4350890000001,\n",
    " 21654.83194,\n",
    " 1712.4721360000001,\n",
    " 9786.5347139999994,\n",
    " 862.54075610000018,\n",
    " 47143.179640000002,\n",
    " 18678.314350000001,\n",
    " 25768.257590000001,\n",
    " 926.14106830000003,\n",
    " 9269.6578079999999,\n",
    " 28821.063699999999,\n",
    " 3970.0954069999998,\n",
    " 2602.3949950000001,\n",
    " 4513.4806429999999,\n",
    " 33859.748350000002,\n",
    " 37506.419070000004,\n",
    " 4184.5480889999999,\n",
    " 28718.276839999999,\n",
    " 1107.482182,\n",
    " 7458.3963269999977,\n",
    " 882.9699437999999,\n",
    " 18008.509239999999,\n",
    " 7092.9230250000001,\n",
    " 8458.2763840000007,\n",
    " 1056.3801209999999,\n",
    " 33203.261279999999,\n",
    " 42951.65309,\n",
    " 10611.46299,\n",
    " 11415.805689999999,\n",
    " 2441.5764039999999,\n",
    " 3025.3497980000002,\n",
    " 2280.769906,\n",
    " 1271.211593,\n",
    " 469.70929810000007]"
   ]
  },
  {
   "cell_type": "code",
   "execution_count": null,
   "metadata": {},
   "outputs": [],
   "source": [
    "plt.plot(gdp_cap,life_exp)"
   ]
  },
  {
   "cell_type": "code",
   "execution_count": null,
   "metadata": {},
   "outputs": [],
   "source": [
    "plt.show()"
   ]
  },
  {
   "cell_type": "code",
   "execution_count": null,
   "metadata": {},
   "outputs": [],
   "source": [
    "plt.scatter(gdp_cap, life_exp)\n",
    "plt.xscale('log')\n",
    "plt.xlabel('gdp')\n",
    "plt.ylabel('life_expectancy')\n",
    "plt.title('correlation between population and life expectancy')\n",
    "plt.show()"
   ]
  },
  {
   "cell_type": "code",
   "execution_count": null,
   "metadata": {
    "collapsed": true
   },
   "outputs": [],
   "source": [
    "pop=[31.889923,\n",
    " 3.6005229999999999,\n",
    " 33.333216,\n",
    " 12.420476000000001,\n",
    " 40.301926999999999,\n",
    " 20.434176000000001,\n",
    " 8.199783,\n",
    " 0.70857300000000001,\n",
    " 150.448339,\n",
    " 10.392226000000001,\n",
    " 8.0783140000000007,\n",
    " 9.1191519999999997,\n",
    " 4.5521979999999997,\n",
    " 1.6391309999999999,\n",
    " 190.01064700000001,\n",
    " 7.3228580000000001,\n",
    " 14.326203,\n",
    " 8.3905049999999992,\n",
    " 14.131857999999999,\n",
    " 17.696293000000001,\n",
    " 33.390141,\n",
    " 4.3690379999999998,\n",
    " 10.238807,\n",
    " 16.284741,\n",
    " 1318.683096,\n",
    " 44.227550000000001,\n",
    " 0.71096000000000004,\n",
    " 64.606758999999997,\n",
    " 3.8006099999999998,\n",
    " 4.1338840000000001,\n",
    " 18.013408999999999,\n",
    " 4.4933120000000004,\n",
    " 11.416987000000001,\n",
    " 10.228744000000001,\n",
    " 5.4681199999999999,\n",
    " 0.49637399999999998,\n",
    " 9.3196220000000007,\n",
    " 13.75568,\n",
    " 80.264543000000003,\n",
    " 6.9396880000000003,\n",
    " 0.55120100000000005,\n",
    " 4.9065849999999998,\n",
    " 76.511887000000002,\n",
    " 5.2384599999999999,\n",
    " 61.083916000000002,\n",
    " 1.4548669999999999,\n",
    " 1.6883589999999999,\n",
    " 82.400996000000006,\n",
    " 22.873338,\n",
    " 10.706289999999999,\n",
    " 12.572927999999999,\n",
    " 9.9478139999999993,\n",
    " 1.4720409999999999,\n",
    " 8.5028140000000008,\n",
    " 7.4837629999999997,\n",
    " 6.9804120000000003,\n",
    " 9.9561080000000004,\n",
    " 0.301931,\n",
    " 1110.3963309999999,\n",
    " 223.547,\n",
    " 69.453569999999999,\n",
    " 27.499638000000001,\n",
    " 4.1090859999999996,\n",
    " 6.426679,\n",
    " 58.147733000000002,\n",
    " 2.780132,\n",
    " 127.467972,\n",
    " 6.0531930000000003,\n",
    " 35.610177,\n",
    " 23.301725000000001,\n",
    " 49.044789999999999,\n",
    " 2.5055589999999999,\n",
    " 3.921278,\n",
    " 2.0126490000000001,\n",
    " 3.1939419999999998,\n",
    " 6.0369140000000003,\n",
    " 19.167653999999999,\n",
    " 13.327078999999999,\n",
    " 24.821286000000001,\n",
    " 12.031795000000001,\n",
    " 3.2700650000000002,\n",
    " 1.250882,\n",
    " 108.700891,\n",
    " 2.8741270000000001,\n",
    " 0.68473600000000001,\n",
    " 33.757174999999997,\n",
    " 19.951656,\n",
    " 47.761980000000001,\n",
    " 2.0550799999999998,\n",
    " 28.901789999999998,\n",
    " 16.570613000000002,\n",
    " 4.1157709999999996,\n",
    " 5.6753559999999998,\n",
    " 12.894864999999999,\n",
    " 135.03116399999999,\n",
    " 4.6279260000000004,\n",
    " 3.2048969999999999,\n",
    " 169.27061699999999,\n",
    " 3.2421730000000002,\n",
    " 6.6671469999999999,\n",
    " 28.674757,\n",
    " 91.077286999999998,\n",
    " 38.518241000000003,\n",
    " 10.642836000000001,\n",
    " 3.942491,\n",
    " 0.79809399999999997,\n",
    " 22.276056000000001,\n",
    " 8.8605879999999999,\n",
    " 0.19957900000000001,\n",
    " 27.601037999999999,\n",
    " 12.267493,\n",
    " 10.150264999999999,\n",
    " 6.1445619999999996,\n",
    " 4.5530090000000003,\n",
    " 5.4475020000000001,\n",
    " 2.0092449999999999,\n",
    " 9.1187729999999991,\n",
    " 43.997827999999998,\n",
    " 40.448191000000001,\n",
    " 20.378239000000001,\n",
    " 42.292929000000001,\n",
    " 1.1330659999999999,\n",
    " 9.0310880000000004,\n",
    " 7.5546610000000003,\n",
    " 19.314747000000001,\n",
    " 23.174294,\n",
    " 38.13964,\n",
    " 65.068149000000005,\n",
    " 5.7015789999999997,\n",
    " 1.056608,\n",
    " 10.276158000000001,\n",
    " 71.158647000000002,\n",
    " 29.170397999999999,\n",
    " 60.776237999999999,\n",
    " 301.13994700000001,\n",
    " 3.4474960000000001,\n",
    " 26.084662000000002,\n",
    " 85.262355999999997,\n",
    " 4.018332,\n",
    " 22.211742999999998,\n",
    " 11.746034999999999,\n",
    " 12.311143]"
   ]
  },
  {
   "cell_type": "code",
   "execution_count": null,
   "metadata": {},
   "outputs": [],
   "source": [
    "plt.scatter(pop,life_exp)"
   ]
  },
  {
   "cell_type": "code",
   "execution_count": null,
   "metadata": {},
   "outputs": [],
   "source": [
    "plt.show()"
   ]
  },
  {
   "cell_type": "code",
   "execution_count": null,
   "metadata": {},
   "outputs": [],
   "source": [
    "plt.hist(life_exp)"
   ]
  },
  {
   "cell_type": "code",
   "execution_count": null,
   "metadata": {},
   "outputs": [],
   "source": [
    "plt.show()"
   ]
  },
  {
   "cell_type": "code",
   "execution_count": null,
   "metadata": {
    "collapsed": true
   },
   "outputs": [],
   "source": [
    "plt.hist(life_exp,bins=10)"
   ]
  },
  {
   "cell_type": "code",
   "execution_count": null,
   "metadata": {
    "collapsed": true
   },
   "outputs": [],
   "source": [
    "plt.show()"
   ]
  },
  {
   "cell_type": "code",
   "execution_count": null,
   "metadata": {
    "collapsed": true
   },
   "outputs": [],
   "source": [
    "help(pd.read_csv)"
   ]
  },
  {
   "cell_type": "code",
   "execution_count": null,
   "metadata": {
    "collapsed": true
   },
   "outputs": [],
   "source": []
  }
 ],
 "metadata": {
  "anaconda-cloud": {},
  "kernelspec": {
   "display_name": "Python 2",
   "language": "python",
   "name": "python2"
  },
  "language_info": {
   "codemirror_mode": {
    "name": "ipython",
    "version": 2
   },
   "file_extension": ".py",
   "mimetype": "text/x-python",
   "name": "python",
   "nbconvert_exporter": "python",
   "pygments_lexer": "ipython2",
   "version": "2.7.13"
  }
 },
 "nbformat": 4,
 "nbformat_minor": 1
}
